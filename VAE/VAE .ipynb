{
 "cells": [
  {
   "cell_type": "code",
   "execution_count": 1,
   "metadata": {
    "id": "7HzXfTnWMlHl"
   },
   "outputs": [],
   "source": [
    "import os\n",
    "\n",
    "import numpy as np\n",
    "import torch\n",
    "from pyro.contrib.examples.util import MNIST\n",
    "import torch.nn as nn\n",
    "import torchvision.transforms as transforms\n",
    "\n",
    "import pyro\n",
    "import pyro.distributions as dist\n",
    "import pyro.contrib.examples.util\n",
    "from pyro.infer import SVI, Trace_ELBO\n",
    "from pyro.optim import Adam"
   ]
  },
  {
   "cell_type": "code",
   "execution_count": 24,
   "metadata": {
    "id": "C3-2Lz-VQIcx"
   },
   "outputs": [],
   "source": [
    "pyro.distributions.enable_validation(False)\n",
    "pyro.set_rng_seed(0)\n",
    "\n",
    "smoke_test = 'CI' in os.environ\n",
    "\n",
    "def setup_data_loaders(batch_size=128, use_cuda=False):\n",
    "    root = './data'\n",
    "    download = True\n",
    "    trans = transforms.ToTensor()\n",
    "    train_set = MNIST(root=root, train=True, transform=trans,\n",
    "                      download=download)\n",
    "    test_set = MNIST(root=root, train=False, transform=trans)\n",
    "\n",
    "    kwargs = {'num_workers': 1, 'pin_memory': use_cuda}\n",
    "    train_loader = torch.utils.data.DataLoader(dataset=train_set,\n",
    "        batch_size=batch_size, shuffle=True, **kwargs)\n",
    "    test_loader = torch.utils.data.DataLoader(dataset=test_set,\n",
    "        batch_size=batch_size, shuffle=False, **kwargs)\n",
    "    return train_loader, test_loader, test_set"
   ]
  },
  {
   "cell_type": "code",
   "execution_count": 14,
   "metadata": {
    "id": "M5NbIu0iQI_6"
   },
   "outputs": [],
   "source": [
    "class Decoder(nn.Module):\n",
    "    def __init__(self, input_dim, z_dim, hidden_dim):\n",
    "        super().__init__()\n",
    "        \"\"\"\n",
    "        Decoder parametrizes the likelihood p(x|z)\n",
    "        \"\"\"\n",
    "\n",
    "        self.fc1 = nn.Linear(z_dim, hidden_dim)\n",
    "        self.fc21 = nn.Linear(hidden_dim, input_dim)\n",
    "\n",
    "        self.softplus = nn.Softplus()\n",
    "        self.sigmoid = nn.Sigmoid()\n",
    "\n",
    "    def forward(self, z):\n",
    "\n",
    "\n",
    "        hidden = self.softplus(self.fc1(z))\n",
    "        loc_img = self.sigmoid(self.fc21(hidden))\n",
    "        return loc_img"
   ]
  },
  {
   "cell_type": "code",
   "execution_count": 46,
   "metadata": {
    "id": "1HdUkyqUQSbx"
   },
   "outputs": [],
   "source": [
    "class Encoder(nn.Module):\n",
    "    def __init__(self,input_dim, z_dim, hidden_dim):\n",
    "        super().__init__()\n",
    "        \"\"\"\n",
    "        Encoder parametrizes the variational distribution\n",
    "        q(z|x)\n",
    "        \"\"\"\n",
    "        self.input_dim = input_dim\n",
    "        self.fc1 = nn.Linear(input_dim, hidden_dim)\n",
    "        self.fc21 = nn.Linear(hidden_dim, z_dim)\n",
    "        self.fc22 = nn.Linear(hidden_dim, z_dim)\n",
    "        # setup the non-linearities\n",
    "        self.softplus = nn.Softplus()\n",
    "\n",
    "    def forward(self, x):\n",
    "\n",
    "        x = x.reshape(-1, self.input_dim)\n",
    "\n",
    "        hidden = self.softplus(self.fc1(x))\n",
    "\n",
    "        z_loc = self.fc21(hidden)\n",
    "        z_scale = torch.exp(self.fc22(hidden))\n",
    "        return z_loc, z_scale"
   ]
  },
  {
   "cell_type": "code",
   "execution_count": 47,
   "metadata": {
    "id": "hwAfTK_fTC7B"
   },
   "outputs": [],
   "source": [
    "class VAE(nn.Module):\n",
    "    def __init__(self,input_dim, z_dim=50, hidden_dim=400, use_cuda=True):\n",
    "        # Define input dimension for data\n",
    "        self.input_dim = input_dim\n",
    "        super().__init__()\n",
    "        # Define instances of encoder and decoder\n",
    "        self.encoder = Encoder(input_dim, z_dim, hidden_dim)\n",
    "        self.decoder = Decoder(input_dim, z_dim, hidden_dim)\n",
    "\n",
    "        if use_cuda:\n",
    "\n",
    "            self.cuda()\n",
    "        self.use_cuda = use_cuda\n",
    "        self.z_dim = z_dim\n",
    "\n",
    "\n",
    "    def model(self, x):\n",
    "        pyro.module(\"decoder\", self.decoder)\n",
    "        with pyro.plate(\"data\", x.shape[0]):\n",
    "            # Define the prior over z\n",
    "            z_loc = x.new_zeros(torch.Size((x.shape[0], self.z_dim)))\n",
    "            z_scale = x.new_ones(torch.Size((x.shape[0], self.z_dim)))\n",
    "            z = pyro.sample(\"latent\", dist.Normal(z_loc, z_scale).to_event(1))\n",
    "\n",
    "            loc_img = self.decoder(z)\n",
    "            \n",
    "            # Define likelihood p(x|z)\n",
    "\n",
    "            pyro.sample(\"obs\", dist.Bernoulli(loc_img).to_event(1), obs=x.reshape(-1, self.input_dim))\n",
    "\n",
    "\n",
    "    def guide(self, x):\n",
    "\n",
    "        pyro.module(\"encoder\", self.encoder)\n",
    "        with pyro.plate(\"data\", x.shape[0]):\n",
    "            # Get the parameters of variational distribution q(z|x)\n",
    "            z_loc, z_scale = self.encoder(x)\n",
    "            pyro.sample(\"latent\", dist.Normal(z_loc, z_scale).to_event(1))\n",
    "\n",
    "    def reconstruct_img(self, x):\n",
    "        with torch.no_grad():\n",
    "            z_loc, z_scale = self.encoder(x)\n",
    "            z = dist.Normal(z_loc, z_scale).sample()\n",
    "\n",
    "            loc_img = self.decoder(z)\n",
    "        return loc_img"
   ]
  },
  {
   "cell_type": "code",
   "execution_count": 49,
   "metadata": {
    "id": "q7ZJgz7xTHdo"
   },
   "outputs": [],
   "source": [
    "# Training Function\n",
    "def train(svi, train_loader, use_cuda=False):\n",
    "    epoch_loss = 0.\n",
    "\n",
    "    for x, _ in train_loader:\n",
    "        if use_cuda:\n",
    "            x = x.cuda()\n",
    "\n",
    "        epoch_loss += svi.step(x)\n",
    "\n",
    "    normalizer_train = len(train_loader.dataset)\n",
    "    total_epoch_loss_train = epoch_loss / normalizer_train\n",
    "    return total_epoch_loss_train"
   ]
  },
  {
   "cell_type": "code",
   "execution_count": 50,
   "metadata": {
    "id": "WaB_7vIVTOBW"
   },
   "outputs": [],
   "source": [
    "# Test Function\n",
    "def evaluate(svi, test_loader, use_cuda=False):\n",
    "\n",
    "    test_loss = 0.\n",
    "\n",
    "    for x, _ in test_loader:\n",
    "        # if on GPU put mini-batch into CUDA memory\n",
    "        if use_cuda:\n",
    "            x = x.cuda()\n",
    "        # compute ELBO estimate and accumulate loss\n",
    "        test_loss += svi.evaluate_loss(x)\n",
    "    \n",
    "    normalizer_test = len(test_loader.dataset)\n",
    "    total_epoch_loss_test = test_loss / normalizer_test\n",
    "    return total_epoch_loss_test"
   ]
  },
  {
   "cell_type": "code",
   "execution_count": 84,
   "metadata": {
    "colab": {
     "base_uri": "https://localhost:8080/"
    },
    "id": "1_P4ML9eTP-2",
    "outputId": "d97d6651-8006-4e8d-d43c-f4b77d585e53"
   },
   "outputs": [
    {
     "name": "stdout",
     "output_type": "stream",
     "text": [
      "[epoch 000]  average training loss: 213.6149\n",
      "[epoch 000] average test loss: 183.7304\n",
      "[epoch 001]  average training loss: 167.0262\n",
      "[epoch 001] average test loss: 155.1916\n",
      "[epoch 002]  average training loss: 149.3941\n",
      "[epoch 002] average test loss: 143.1546\n",
      "[epoch 003]  average training loss: 139.4460\n",
      "[epoch 003] average test loss: 134.6662\n",
      "[epoch 004]  average training loss: 132.4204\n",
      "[epoch 004] average test loss: 128.6589\n",
      "[epoch 005]  average training loss: 126.9342\n",
      "[epoch 005] average test loss: 123.6907\n",
      "[epoch 006]  average training loss: 122.6053\n",
      "[epoch 006] average test loss: 120.0798\n",
      "[epoch 007]  average training loss: 119.4612\n",
      "[epoch 007] average test loss: 117.3618\n",
      "[epoch 008]  average training loss: 117.0240\n",
      "[epoch 008] average test loss: 115.4377\n",
      "[epoch 009]  average training loss: 115.1430\n",
      "[epoch 009] average test loss: 113.9116\n",
      "[epoch 010]  average training loss: 113.7871\n",
      "[epoch 010] average test loss: 112.2679\n",
      "[epoch 011]  average training loss: 112.6671\n",
      "[epoch 011] average test loss: 111.4949\n",
      "[epoch 012]  average training loss: 111.7892\n",
      "[epoch 012] average test loss: 110.5432\n",
      "[epoch 013]  average training loss: 111.0334\n",
      "[epoch 013] average test loss: 109.8797\n",
      "[epoch 014]  average training loss: 110.3369\n",
      "[epoch 014] average test loss: 109.2874\n",
      "[epoch 015]  average training loss: 109.7389\n",
      "[epoch 015] average test loss: 109.1220\n",
      "[epoch 016]  average training loss: 109.2848\n",
      "[epoch 016] average test loss: 108.3055\n",
      "[epoch 017]  average training loss: 108.8187\n",
      "[epoch 017] average test loss: 108.0056\n",
      "[epoch 018]  average training loss: 108.4117\n",
      "[epoch 018] average test loss: 107.7296\n",
      "[epoch 019]  average training loss: 108.0080\n",
      "[epoch 019] average test loss: 107.3743\n",
      "[epoch 020]  average training loss: 107.6842\n",
      "[epoch 020] average test loss: 107.0930\n"
     ]
    }
   ],
   "source": [
    "\n",
    "LEARNING_RATE = 1.0e-3\n",
    "USE_CUDA = True\n",
    "\n",
    "\n",
    "NUM_EPOCHS = 21\n",
    "TEST_FREQUENCY = 1\n",
    "train_loader, test_loader, test_set = setup_data_loaders(batch_size=512, use_cuda=USE_CUDA)\n",
    "\n",
    "\n",
    "pyro.clear_param_store()\n",
    "\n",
    "# Setup the VAE,  optimizer and svi scheme\n",
    "vae = VAE(input_dim = 784)\n",
    "adam_args = {\"lr\": LEARNING_RATE}\n",
    "optimizer = Adam(adam_args)\n",
    "\n",
    "svi = SVI(vae.model, vae.guide, optimizer, loss=Trace_ELBO())\n",
    "\n",
    "# Store the losses for plotting\n",
    "train_elbo = []\n",
    "test_elbo = []\n",
    "# training loop\n",
    "for epoch in range(NUM_EPOCHS):\n",
    "    vae.train()\n",
    "    total_epoch_loss_train = train(svi, train_loader, use_cuda=USE_CUDA)\n",
    "    vae.eval()\n",
    "    train_elbo.append(total_epoch_loss_train)\n",
    "    print(\"[epoch %03d]  average training loss: %.4f\" % (epoch, total_epoch_loss_train))\n",
    "\n",
    "    if epoch % TEST_FREQUENCY == 0:\n",
    "\n",
    "        total_epoch_loss_test = evaluate(svi, test_loader, use_cuda=USE_CUDA)\n",
    "        test_elbo.append(total_epoch_loss_test)\n",
    "        print(\"[epoch %03d] average test loss: %.4f\" % (epoch, total_epoch_loss_test))\n",
    "                \n",
    "            "
   ]
  },
  {
   "cell_type": "code",
   "execution_count": 85,
   "metadata": {
    "colab": {
     "base_uri": "https://localhost:8080/",
     "height": 564
    },
    "id": "epdG6wYcTSkH",
    "outputId": "2adf9153-31d0-4267-f5ea-2e7370392615"
   },
   "outputs": [
    {
     "data": {
      "image/png": "[encoded data removed]",
      "text/plain": [
       "<Figure size 800x600 with 1 Axes>"
      ]
     },
     "metadata": {},
     "output_type": "display_data"
    }
   ],
   "source": [
    "import matplotlib.pyplot as plt\n",
    "\n",
    "def plot_elbo(train_elbo, test_elbo, test_frequency):\n",
    "    epochs = list(range(1, len(train_elbo) + 1))\n",
    "    test_epochs = list(range(0, len(test_elbo) * test_frequency, test_frequency))\n",
    "\n",
    "    plt.figure(figsize=(8, 6))\n",
    "    plt.plot(epochs, train_elbo, label=\"Training ELBO\", color=\"blue\", marker='o')\n",
    "    plt.plot(test_epochs, test_elbo, label=\"Test ELBO\", color=\"red\", marker='x')\n",
    "    plt.xlabel(\"Epoch\")\n",
    "    plt.ylabel(\"ELBO Loss\")\n",
    "    plt.title(\"ELBO Loss during Training and Testing\")\n",
    "    plt.legend()\n",
    "    plt.grid(True)\n",
    "    plt.show()\n",
    "\n",
    "plot_elbo(train_elbo, test_elbo, TEST_FREQUENCY)\n"
   ]
  },
  {
   "cell_type": "code",
   "execution_count": 86,
   "metadata": {
    "id": "KW6Pfff4fZW-"
   },
   "outputs": [],
   "source": [
    "def plot_reconstructed_images(vae, test_loader, num_images=10, use_cuda=False):\n",
    "    vae.eval()\n",
    "    original_images, _ = next(iter(test_loader))\n",
    "    if use_cuda:\n",
    "        original_images = original_images.cuda()\n",
    "\n",
    "    with torch.no_grad():\n",
    "        reconstructed_images = vae.reconstruct_img(original_images[:num_images])\n",
    "\n",
    "    fig, axes = plt.subplots(2, num_images, figsize=(15, 4))\n",
    "\n",
    "    for i in range(num_images):\n",
    "\n",
    "        axes[0, i].imshow(original_images[i].cpu().squeeze().numpy(), cmap='gray')\n",
    "        axes[0, 0].set_title(\"Original\")\n",
    "        axes[0, i].axis('off')\n",
    "\n",
    "        img = reconstructed_images[i].cpu().numpy().reshape(28, 28)\n",
    "        axes[1, i].imshow(img, cmap='gray')\n",
    "        axes[1, 0].set_title(\"Reconstructed\")\n",
    "        axes[1, i].axis('off')\n",
    "\n",
    "    plt.show()\n"
   ]
  },
  {
   "cell_type": "code",
   "execution_count": 87,
   "metadata": {
    "colab": {
     "base_uri": "https://localhost:8080/",
     "height": 325
    },
    "id": "PTHvYRAXffVh",
    "outputId": "b444f626-59fd-4426-cf3c-118b151da433"
   },
   "outputs": [
    {
     "data": {
      "image/png": "[encoded data removed]",
      "text/plain": [
       "<Figure size 1500x400 with 20 Axes>"
      ]
     },
     "metadata": {},
     "output_type": "display_data"
    }
   ],
   "source": [
    "plot_reconstructed_images(vae, test_loader, num_images=10, use_cuda=USE_CUDA)\n"
   ]
  },
  {
   "cell_type": "code",
   "execution_count": null,
   "metadata": {},
   "outputs": [],
   "source": []
  }
 ],
 "metadata": {
  "colab": {
   "provenance": []
  },
  "kernelspec": {
   "display_name": "NDE",
   "language": "python",
   "name": "nde"
  },
  "language_info": {
   "codemirror_mode": {
    "name": "ipython",
    "version": 3
   },
   "file_extension": ".py",
   "mimetype": "text/x-python",
   "name": "python",
   "nbconvert_exporter": "python",
   "pygments_lexer": "ipython3",
   "version": "3.10.2"
  }
 },
 "nbformat": 4,
 "nbformat_minor": 4
}
